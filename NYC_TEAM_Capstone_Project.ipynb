{
  "cells": [
    {
      "cell_type": "markdown",
      "metadata": {
        "id": "view-in-github",
        "colab_type": "text"
      },
      "source": [
        "<a href=\"https://colab.research.google.com/github/Minazuddin37/NYC-taxi-trip-time-prediction/blob/main/NYC_TEAM_Capstone_Project.ipynb\" target=\"_parent\"><img src=\"https://colab.research.google.com/assets/colab-badge.svg\" alt=\"Open In Colab\"/></a>"
      ]
    },
    {
      "cell_type": "markdown",
      "metadata": {
        "id": "tOGC-qoyhJeX"
      },
      "source": [
        "# <b><u> Project Title : Taxi trip time Prediction : Predicting total ride duration of taxi trips in New York City</u></b>"
      ]
    },
    {
      "cell_type": "markdown",
      "metadata": {
        "id": "Y06xIdG26kRF"
      },
      "source": [
        "## <b> Problem Description </b>\n",
        "\n",
        "### Your task is to build a model that predicts the total ride duration of taxi trips in New York City. Your primary dataset is one released by the NYC Taxi and Limousine Commission, which includes pickup time, geo-coordinates, number of passengers, and several other variables."
      ]
    },
    {
      "cell_type": "markdown",
      "metadata": {
        "id": "WWeU1f9bwqQq"
      },
      "source": [
        "## <b> Data Description </b>\n",
        "\n",
        "### The dataset is based on the 2016 NYC Yellow Cab trip record data made available in Big Query on Google Cloud Platform. The data was originally published by the NYC Taxi and Limousine Commission (TLC). The data was sampled and cleaned for the purposes of this project. Based on individual trip attributes, you should predict the duration of each trip in the test set.\n",
        "\n",
        "### <b>NYC Taxi Data.csv</b> - the training set (contains 1458644 trip records)\n",
        "\n",
        "\n",
        "### Data fields\n",
        "* #### id - a unique identifier for each trip\n",
        "* #### vendor_id - a code indicating the provider associated with the trip record\n",
        "* #### pickup_datetime - date and time when the meter was engaged\n",
        "* #### dropoff_datetime - date and time when the meter was disengaged\n",
        "* #### passenger_count - the number of passengers in the vehicle (driver entered value)\n",
        "* #### pickup_longitude - the longitude where the meter was engaged\n",
        "* #### pickup_latitude - the latitude where the meter was engaged\n",
        "* #### dropoff_longitude - the longitude where the meter was disengaged\n",
        "* #### dropoff_latitude - the latitude where the meter was disengaged\n",
        "* #### store_and_fwd_flag - This flag indicates whether the trip record was held in vehicle memory before sending to the vendor because the vehicle did not have a connection to the server - Y=store and forward; N=not a store and forward trip\n",
        "* #### trip_duration - duration of the trip in seconds"
      ]
    },
    {
      "cell_type": "markdown",
      "metadata": {
        "id": "zo0c5TLsCL_u"
      },
      "source": [
        "# **Installing Required Libraries**"
      ]
    },
    {
      "cell_type": "code",
      "execution_count": null,
      "metadata": {
        "colab": {
          "base_uri": "https://localhost:8080/"
        },
        "id": "jtirpeI8CSP6",
        "outputId": "811bcbc4-5642-4d91-ee56-af6ce021d5a5"
      },
      "outputs": [
        {
          "name": "stdout",
          "output_type": "stream",
          "text": [
            "Collecting pycountry\n",
            "  Downloading pycountry-20.7.3.tar.gz (10.1 MB)\n",
            "\u001b[K     |████████████████████████████████| 10.1 MB 7.7 MB/s \n",
            "\u001b[?25hBuilding wheels for collected packages: pycountry\n",
            "  Building wheel for pycountry (setup.py) ... \u001b[?25l\u001b[?25hdone\n",
            "  Created wheel for pycountry: filename=pycountry-20.7.3-py2.py3-none-any.whl size=10746883 sha256=7c12e79da28e534b8ac9c6e24eddff03892c5247281bbdbec7eadf0e28509a7c\n",
            "  Stored in directory: /root/.cache/pip/wheels/57/e8/3f/120ccc1ff7541c108bc5d656e2a14c39da0d824653b62284c6\n",
            "Successfully built pycountry\n",
            "Installing collected packages: pycountry\n",
            "Successfully installed pycountry-20.7.3\n",
            "Collecting haversine\n",
            "  Downloading haversine-2.5.1-py2.py3-none-any.whl (6.1 kB)\n",
            "Installing collected packages: haversine\n",
            "Successfully installed haversine-2.5.1\n"
          ]
        }
      ],
      "source": [
        "!pip install pycountry\n",
        "!pip install haversine"
      ]
    },
    {
      "cell_type": "markdown",
      "metadata": {
        "id": "bwxwUWlICYIs"
      },
      "source": [
        "# **Importing Libraries**"
      ]
    },
    {
      "cell_type": "code",
      "execution_count": 3,
      "metadata": {
        "id": "yPrq4G8GCfta"
      },
      "outputs": [],
      "source": [
        "import numpy as np\n",
        "import pandas as pd\n",
        "import matplotlib.pyplot as plt\n",
        "%matplotlib inline\n",
        "import seaborn as sns\n",
        "import matplotlib.ticker as mtick\n",
        "import plotly.express as px\n",
        "from numpy import math\n",
        "from math import sqrt\n",
        "from sklearn.preprocessing import MinMaxScaler\n",
        "from sklearn.model_selection import train_test_split\n",
        "from sklearn.linear_model import LinearRegression\n",
        "from sklearn.metrics import r2_score\n",
        "from sklearn.metrics import mean_squared_error\n",
        "from sklearn.tree import DecisionTreeRegressor\n",
        "from sklearn.linear_model import Ridge, Lasso\n",
        "from sklearn.model_selection import KFold\n",
        "from sklearn.neighbors import KNeighborsRegressor\n",
        "from datetime import datetime as dt\n",
        "from sklearn.ensemble import RandomForestRegressor\n",
        "from sklearn import metrics\n",
        "from sklearn.model_selection import train_test_split, GridSearchCV\n",
        "from sklearn.model_selection import ShuffleSplit\n",
        "import warnings; warnings.simplefilter('ignore')"
      ]
    },
    {
      "cell_type": "code",
      "source": [
        "from google.colab import drive\n",
        "drive.mount('/content/drive')"
      ],
      "metadata": {
        "id": "3CMWYDTDDHZh",
        "outputId": "d10d2ce3-763e-47ac-ca27-c4aefc697249",
        "colab": {
          "base_uri": "https://localhost:8080/"
        }
      },
      "execution_count": 4,
      "outputs": [
        {
          "output_type": "stream",
          "name": "stdout",
          "text": [
            "Mounted at /content/drive\n"
          ]
        }
      ]
    },
    {
      "cell_type": "markdown",
      "metadata": {
        "id": "_Yj4mg6NC53U"
      },
      "source": [
        "# **Loading DataSet**"
      ]
    },
    {
      "cell_type": "code",
      "execution_count": 5,
      "metadata": {
        "id": "db0QdU0gCrGq"
      },
      "outputs": [],
      "source": [
        "# creating directory path\n",
        "df = pd.read_csv('/content/drive/MyDrive/Colab Notebooks/NYC/NYC Taxi Data.csv')"
      ]
    },
    {
      "cell_type": "code",
      "execution_count": 6,
      "metadata": {
        "id": "OZs1eNoKJh4H"
      },
      "outputs": [],
      "source": [
        "dfm=df.copy()"
      ]
    },
    {
      "cell_type": "markdown",
      "metadata": {
        "id": "8T91_rc6DVmy"
      },
      "source": [
        "Now, we have our dataset which was of the type ‘csv’ in a pandas dataframe which we have named ‘df’."
      ]
    },
    {
      "cell_type": "markdown",
      "metadata": {
        "id": "VPW0ChMZD1gX"
      },
      "source": [
        "# **File Structure and content**"
      ]
    },
    {
      "cell_type": "code",
      "execution_count": 7,
      "metadata": {
        "colab": {
          "base_uri": "https://localhost:8080/"
        },
        "id": "cb4ZCMOIDChL",
        "outputId": "64fd0e5a-bdcf-40be-dcfc-79c51ca61531"
      },
      "outputs": [
        {
          "output_type": "stream",
          "name": "stdout",
          "text": [
            "We have 1458644 rows.\n",
            "We have 11 columns.\n"
          ]
        },
        {
          "output_type": "execute_result",
          "data": {
            "text/plain": [
              "id                              id2377394\n",
              "vendor_id                               1\n",
              "pickup_datetime       2016-06-12 00:43:35\n",
              "dropoff_datetime      2016-06-12 00:54:38\n",
              "passenger_count                         1\n",
              "pickup_longitude               -73.980415\n",
              "pickup_latitude                 40.738564\n",
              "dropoff_longitude              -73.999481\n",
              "dropoff_latitude                40.731152\n",
              "store_and_fwd_flag                      N\n",
              "trip_duration                         663\n",
              "Name: 1, dtype: object"
            ]
          },
          "metadata": {},
          "execution_count": 7
        }
      ],
      "source": [
        "#no. of row and column\n",
        "print(\"We have {} rows.\".format(df.shape[0]))\n",
        "print(\"We have {} columns.\".format(df.shape[1]))\n",
        "df.iloc[1,:]"
      ]
    },
    {
      "cell_type": "markdown",
      "metadata": {
        "id": "J9IxB59zEUJs"
      },
      "source": [
        "At first galance, We have seen that the type of each variable and how they look like"
      ]
    },
    {
      "cell_type": "markdown",
      "metadata": {
        "id": "N8k66G5oEf4O"
      },
      "source": [
        "# **MISSING VALUES**\n",
        "Knowing about missing values is important because they indicate how much we dont's know about our data. Making inferences based on just a few cases is often unwise. In addition, many modelling procedures break down when missing values are involved and the corresponding rows will either have to be removed completely or the values need to be estimated somehow."
      ]
    },
    {
      "cell_type": "code",
      "execution_count": 8,
      "metadata": {
        "colab": {
          "base_uri": "https://localhost:8080/"
        },
        "id": "05T2uM7KD7Ed",
        "outputId": "4fc7b22a-6950-4e54-817f-76bab6100064"
      },
      "outputs": [
        {
          "output_type": "execute_result",
          "data": {
            "text/plain": [
              "id                    0\n",
              "vendor_id             0\n",
              "pickup_datetime       0\n",
              "dropoff_datetime      0\n",
              "passenger_count       0\n",
              "pickup_longitude      0\n",
              "pickup_latitude       0\n",
              "dropoff_longitude     0\n",
              "dropoff_latitude      0\n",
              "store_and_fwd_flag    0\n",
              "trip_duration         0\n",
              "dtype: int64"
            ]
          },
          "metadata": {},
          "execution_count": 8
        }
      ],
      "source": [
        "#check null values in Data frame\n",
        "df.isnull().sum()"
      ]
    },
    {
      "cell_type": "markdown",
      "metadata": {
        "id": "pPhfG02aE42V"
      },
      "source": [
        "Fortunately, in this dataset we do not have any missing values which is great"
      ]
    },
    {
      "cell_type": "markdown",
      "metadata": {
        "id": "p7L1ajJbFFEl"
      },
      "source": [
        "# **Describing Dataset**"
      ]
    },
    {
      "cell_type": "code",
      "execution_count": 13,
      "metadata": {
        "colab": {
          "base_uri": "https://localhost:8080/",
          "height": 336
        },
        "id": "p9Wvmr-aFEvt",
        "outputId": "d3385737-8ad2-4761-f256-24300d92e556"
      },
      "outputs": [
        {
          "output_type": "execute_result",
          "data": {
            "text/html": [
              "\n",
              "  <div id=\"df-5c7bbbfa-184b-494f-a1e5-a83ffc25a735\">\n",
              "    <div class=\"colab-df-container\">\n",
              "      <div>\n",
              "<style scoped>\n",
              "    .dataframe tbody tr th:only-of-type {\n",
              "        vertical-align: middle;\n",
              "    }\n",
              "\n",
              "    .dataframe tbody tr th {\n",
              "        vertical-align: top;\n",
              "    }\n",
              "\n",
              "    .dataframe thead th {\n",
              "        text-align: right;\n",
              "    }\n",
              "</style>\n",
              "<table border=\"1\" class=\"dataframe\">\n",
              "  <thead>\n",
              "    <tr style=\"text-align: right;\">\n",
              "      <th></th>\n",
              "      <th>id</th>\n",
              "      <th>vendor_id</th>\n",
              "      <th>pickup_datetime</th>\n",
              "      <th>dropoff_datetime</th>\n",
              "      <th>passenger_count</th>\n",
              "      <th>pickup_longitude</th>\n",
              "      <th>pickup_latitude</th>\n",
              "      <th>dropoff_longitude</th>\n",
              "      <th>dropoff_latitude</th>\n",
              "      <th>store_and_fwd_flag</th>\n",
              "      <th>trip_duration</th>\n",
              "    </tr>\n",
              "  </thead>\n",
              "  <tbody>\n",
              "    <tr>\n",
              "      <th>0</th>\n",
              "      <td>id2875421</td>\n",
              "      <td>2</td>\n",
              "      <td>2016-03-14 17:24:55</td>\n",
              "      <td>2016-03-14 17:32:30</td>\n",
              "      <td>1</td>\n",
              "      <td>-73.982155</td>\n",
              "      <td>40.767937</td>\n",
              "      <td>-73.964630</td>\n",
              "      <td>40.765602</td>\n",
              "      <td>N</td>\n",
              "      <td>455</td>\n",
              "    </tr>\n",
              "    <tr>\n",
              "      <th>1</th>\n",
              "      <td>id2377394</td>\n",
              "      <td>1</td>\n",
              "      <td>2016-06-12 00:43:35</td>\n",
              "      <td>2016-06-12 00:54:38</td>\n",
              "      <td>1</td>\n",
              "      <td>-73.980415</td>\n",
              "      <td>40.738564</td>\n",
              "      <td>-73.999481</td>\n",
              "      <td>40.731152</td>\n",
              "      <td>N</td>\n",
              "      <td>663</td>\n",
              "    </tr>\n",
              "    <tr>\n",
              "      <th>2</th>\n",
              "      <td>id3858529</td>\n",
              "      <td>2</td>\n",
              "      <td>2016-01-19 11:35:24</td>\n",
              "      <td>2016-01-19 12:10:48</td>\n",
              "      <td>1</td>\n",
              "      <td>-73.979027</td>\n",
              "      <td>40.763939</td>\n",
              "      <td>-74.005333</td>\n",
              "      <td>40.710087</td>\n",
              "      <td>N</td>\n",
              "      <td>2124</td>\n",
              "    </tr>\n",
              "    <tr>\n",
              "      <th>3</th>\n",
              "      <td>id3504673</td>\n",
              "      <td>2</td>\n",
              "      <td>2016-04-06 19:32:31</td>\n",
              "      <td>2016-04-06 19:39:40</td>\n",
              "      <td>1</td>\n",
              "      <td>-74.010040</td>\n",
              "      <td>40.719971</td>\n",
              "      <td>-74.012268</td>\n",
              "      <td>40.706718</td>\n",
              "      <td>N</td>\n",
              "      <td>429</td>\n",
              "    </tr>\n",
              "    <tr>\n",
              "      <th>4</th>\n",
              "      <td>id2181028</td>\n",
              "      <td>2</td>\n",
              "      <td>2016-03-26 13:30:55</td>\n",
              "      <td>2016-03-26 13:38:10</td>\n",
              "      <td>1</td>\n",
              "      <td>-73.973053</td>\n",
              "      <td>40.793209</td>\n",
              "      <td>-73.972923</td>\n",
              "      <td>40.782520</td>\n",
              "      <td>N</td>\n",
              "      <td>435</td>\n",
              "    </tr>\n",
              "  </tbody>\n",
              "</table>\n",
              "</div>\n",
              "      <button class=\"colab-df-convert\" onclick=\"convertToInteractive('df-5c7bbbfa-184b-494f-a1e5-a83ffc25a735')\"\n",
              "              title=\"Convert this dataframe to an interactive table.\"\n",
              "              style=\"display:none;\">\n",
              "        \n",
              "  <svg xmlns=\"http://www.w3.org/2000/svg\" height=\"24px\"viewBox=\"0 0 24 24\"\n",
              "       width=\"24px\">\n",
              "    <path d=\"M0 0h24v24H0V0z\" fill=\"none\"/>\n",
              "    <path d=\"M18.56 5.44l.94 2.06.94-2.06 2.06-.94-2.06-.94-.94-2.06-.94 2.06-2.06.94zm-11 1L8.5 8.5l.94-2.06 2.06-.94-2.06-.94L8.5 2.5l-.94 2.06-2.06.94zm10 10l.94 2.06.94-2.06 2.06-.94-2.06-.94-.94-2.06-.94 2.06-2.06.94z\"/><path d=\"M17.41 7.96l-1.37-1.37c-.4-.4-.92-.59-1.43-.59-.52 0-1.04.2-1.43.59L10.3 9.45l-7.72 7.72c-.78.78-.78 2.05 0 2.83L4 21.41c.39.39.9.59 1.41.59.51 0 1.02-.2 1.41-.59l7.78-7.78 2.81-2.81c.8-.78.8-2.07 0-2.86zM5.41 20L4 18.59l7.72-7.72 1.47 1.35L5.41 20z\"/>\n",
              "  </svg>\n",
              "      </button>\n",
              "      \n",
              "  <style>\n",
              "    .colab-df-container {\n",
              "      display:flex;\n",
              "      flex-wrap:wrap;\n",
              "      gap: 12px;\n",
              "    }\n",
              "\n",
              "    .colab-df-convert {\n",
              "      background-color: #E8F0FE;\n",
              "      border: none;\n",
              "      border-radius: 50%;\n",
              "      cursor: pointer;\n",
              "      display: none;\n",
              "      fill: #1967D2;\n",
              "      height: 32px;\n",
              "      padding: 0 0 0 0;\n",
              "      width: 32px;\n",
              "    }\n",
              "\n",
              "    .colab-df-convert:hover {\n",
              "      background-color: #E2EBFA;\n",
              "      box-shadow: 0px 1px 2px rgba(60, 64, 67, 0.3), 0px 1px 3px 1px rgba(60, 64, 67, 0.15);\n",
              "      fill: #174EA6;\n",
              "    }\n",
              "\n",
              "    [theme=dark] .colab-df-convert {\n",
              "      background-color: #3B4455;\n",
              "      fill: #D2E3FC;\n",
              "    }\n",
              "\n",
              "    [theme=dark] .colab-df-convert:hover {\n",
              "      background-color: #434B5C;\n",
              "      box-shadow: 0px 1px 3px 1px rgba(0, 0, 0, 0.15);\n",
              "      filter: drop-shadow(0px 1px 2px rgba(0, 0, 0, 0.3));\n",
              "      fill: #FFFFFF;\n",
              "    }\n",
              "  </style>\n",
              "\n",
              "      <script>\n",
              "        const buttonEl =\n",
              "          document.querySelector('#df-5c7bbbfa-184b-494f-a1e5-a83ffc25a735 button.colab-df-convert');\n",
              "        buttonEl.style.display =\n",
              "          google.colab.kernel.accessAllowed ? 'block' : 'none';\n",
              "\n",
              "        async function convertToInteractive(key) {\n",
              "          const element = document.querySelector('#df-5c7bbbfa-184b-494f-a1e5-a83ffc25a735');\n",
              "          const dataTable =\n",
              "            await google.colab.kernel.invokeFunction('convertToInteractive',\n",
              "                                                     [key], {});\n",
              "          if (!dataTable) return;\n",
              "\n",
              "          const docLinkHtml = 'Like what you see? Visit the ' +\n",
              "            '<a target=\"_blank\" href=https://colab.research.google.com/notebooks/data_table.ipynb>data table notebook</a>'\n",
              "            + ' to learn more about interactive tables.';\n",
              "          element.innerHTML = '';\n",
              "          dataTable['output_type'] = 'display_data';\n",
              "          await google.colab.output.renderOutput(dataTable, element);\n",
              "          const docLink = document.createElement('div');\n",
              "          docLink.innerHTML = docLinkHtml;\n",
              "          element.appendChild(docLink);\n",
              "        }\n",
              "      </script>\n",
              "    </div>\n",
              "  </div>\n",
              "  "
            ],
            "text/plain": [
              "          id  vendor_id  ... store_and_fwd_flag trip_duration\n",
              "0  id2875421          2  ...                  N           455\n",
              "1  id2377394          1  ...                  N           663\n",
              "2  id3858529          2  ...                  N          2124\n",
              "3  id3504673          2  ...                  N           429\n",
              "4  id2181028          2  ...                  N           435\n",
              "\n",
              "[5 rows x 11 columns]"
            ]
          },
          "metadata": {},
          "execution_count": 13
        }
      ],
      "source": [
        "# Visualizing the dataset\n",
        "df.head()"
      ]
    },
    {
      "cell_type": "code",
      "execution_count": 14,
      "metadata": {
        "colab": {
          "base_uri": "https://localhost:8080/",
          "height": 300
        },
        "id": "1X3-QI8lE3U5",
        "outputId": "dc044f71-b98d-4b6d-f7c9-e0852e489db9"
      },
      "outputs": [
        {
          "output_type": "execute_result",
          "data": {
            "text/html": [
              "\n",
              "  <div id=\"df-56eb6186-c167-4843-ba83-6ced5dfa1335\">\n",
              "    <div class=\"colab-df-container\">\n",
              "      <div>\n",
              "<style scoped>\n",
              "    .dataframe tbody tr th:only-of-type {\n",
              "        vertical-align: middle;\n",
              "    }\n",
              "\n",
              "    .dataframe tbody tr th {\n",
              "        vertical-align: top;\n",
              "    }\n",
              "\n",
              "    .dataframe thead th {\n",
              "        text-align: right;\n",
              "    }\n",
              "</style>\n",
              "<table border=\"1\" class=\"dataframe\">\n",
              "  <thead>\n",
              "    <tr style=\"text-align: right;\">\n",
              "      <th></th>\n",
              "      <th>vendor_id</th>\n",
              "      <th>passenger_count</th>\n",
              "      <th>pickup_longitude</th>\n",
              "      <th>pickup_latitude</th>\n",
              "      <th>dropoff_longitude</th>\n",
              "      <th>dropoff_latitude</th>\n",
              "      <th>trip_duration</th>\n",
              "    </tr>\n",
              "  </thead>\n",
              "  <tbody>\n",
              "    <tr>\n",
              "      <th>count</th>\n",
              "      <td>1.458644e+06</td>\n",
              "      <td>1.458644e+06</td>\n",
              "      <td>1.458644e+06</td>\n",
              "      <td>1.458644e+06</td>\n",
              "      <td>1.458644e+06</td>\n",
              "      <td>1.458644e+06</td>\n",
              "      <td>1.458644e+06</td>\n",
              "    </tr>\n",
              "    <tr>\n",
              "      <th>mean</th>\n",
              "      <td>1.534950e+00</td>\n",
              "      <td>1.664530e+00</td>\n",
              "      <td>-7.397349e+01</td>\n",
              "      <td>4.075092e+01</td>\n",
              "      <td>-7.397342e+01</td>\n",
              "      <td>4.075180e+01</td>\n",
              "      <td>9.594923e+02</td>\n",
              "    </tr>\n",
              "    <tr>\n",
              "      <th>std</th>\n",
              "      <td>4.987772e-01</td>\n",
              "      <td>1.314242e+00</td>\n",
              "      <td>7.090186e-02</td>\n",
              "      <td>3.288119e-02</td>\n",
              "      <td>7.064327e-02</td>\n",
              "      <td>3.589056e-02</td>\n",
              "      <td>5.237432e+03</td>\n",
              "    </tr>\n",
              "    <tr>\n",
              "      <th>min</th>\n",
              "      <td>1.000000e+00</td>\n",
              "      <td>0.000000e+00</td>\n",
              "      <td>-1.219333e+02</td>\n",
              "      <td>3.435970e+01</td>\n",
              "      <td>-1.219333e+02</td>\n",
              "      <td>3.218114e+01</td>\n",
              "      <td>1.000000e+00</td>\n",
              "    </tr>\n",
              "    <tr>\n",
              "      <th>25%</th>\n",
              "      <td>1.000000e+00</td>\n",
              "      <td>1.000000e+00</td>\n",
              "      <td>-7.399187e+01</td>\n",
              "      <td>4.073735e+01</td>\n",
              "      <td>-7.399133e+01</td>\n",
              "      <td>4.073588e+01</td>\n",
              "      <td>3.970000e+02</td>\n",
              "    </tr>\n",
              "    <tr>\n",
              "      <th>50%</th>\n",
              "      <td>2.000000e+00</td>\n",
              "      <td>1.000000e+00</td>\n",
              "      <td>-7.398174e+01</td>\n",
              "      <td>4.075410e+01</td>\n",
              "      <td>-7.397975e+01</td>\n",
              "      <td>4.075452e+01</td>\n",
              "      <td>6.620000e+02</td>\n",
              "    </tr>\n",
              "    <tr>\n",
              "      <th>75%</th>\n",
              "      <td>2.000000e+00</td>\n",
              "      <td>2.000000e+00</td>\n",
              "      <td>-7.396733e+01</td>\n",
              "      <td>4.076836e+01</td>\n",
              "      <td>-7.396301e+01</td>\n",
              "      <td>4.076981e+01</td>\n",
              "      <td>1.075000e+03</td>\n",
              "    </tr>\n",
              "    <tr>\n",
              "      <th>max</th>\n",
              "      <td>2.000000e+00</td>\n",
              "      <td>9.000000e+00</td>\n",
              "      <td>-6.133553e+01</td>\n",
              "      <td>5.188108e+01</td>\n",
              "      <td>-6.133553e+01</td>\n",
              "      <td>4.392103e+01</td>\n",
              "      <td>3.526282e+06</td>\n",
              "    </tr>\n",
              "  </tbody>\n",
              "</table>\n",
              "</div>\n",
              "      <button class=\"colab-df-convert\" onclick=\"convertToInteractive('df-56eb6186-c167-4843-ba83-6ced5dfa1335')\"\n",
              "              title=\"Convert this dataframe to an interactive table.\"\n",
              "              style=\"display:none;\">\n",
              "        \n",
              "  <svg xmlns=\"http://www.w3.org/2000/svg\" height=\"24px\"viewBox=\"0 0 24 24\"\n",
              "       width=\"24px\">\n",
              "    <path d=\"M0 0h24v24H0V0z\" fill=\"none\"/>\n",
              "    <path d=\"M18.56 5.44l.94 2.06.94-2.06 2.06-.94-2.06-.94-.94-2.06-.94 2.06-2.06.94zm-11 1L8.5 8.5l.94-2.06 2.06-.94-2.06-.94L8.5 2.5l-.94 2.06-2.06.94zm10 10l.94 2.06.94-2.06 2.06-.94-2.06-.94-.94-2.06-.94 2.06-2.06.94z\"/><path d=\"M17.41 7.96l-1.37-1.37c-.4-.4-.92-.59-1.43-.59-.52 0-1.04.2-1.43.59L10.3 9.45l-7.72 7.72c-.78.78-.78 2.05 0 2.83L4 21.41c.39.39.9.59 1.41.59.51 0 1.02-.2 1.41-.59l7.78-7.78 2.81-2.81c.8-.78.8-2.07 0-2.86zM5.41 20L4 18.59l7.72-7.72 1.47 1.35L5.41 20z\"/>\n",
              "  </svg>\n",
              "      </button>\n",
              "      \n",
              "  <style>\n",
              "    .colab-df-container {\n",
              "      display:flex;\n",
              "      flex-wrap:wrap;\n",
              "      gap: 12px;\n",
              "    }\n",
              "\n",
              "    .colab-df-convert {\n",
              "      background-color: #E8F0FE;\n",
              "      border: none;\n",
              "      border-radius: 50%;\n",
              "      cursor: pointer;\n",
              "      display: none;\n",
              "      fill: #1967D2;\n",
              "      height: 32px;\n",
              "      padding: 0 0 0 0;\n",
              "      width: 32px;\n",
              "    }\n",
              "\n",
              "    .colab-df-convert:hover {\n",
              "      background-color: #E2EBFA;\n",
              "      box-shadow: 0px 1px 2px rgba(60, 64, 67, 0.3), 0px 1px 3px 1px rgba(60, 64, 67, 0.15);\n",
              "      fill: #174EA6;\n",
              "    }\n",
              "\n",
              "    [theme=dark] .colab-df-convert {\n",
              "      background-color: #3B4455;\n",
              "      fill: #D2E3FC;\n",
              "    }\n",
              "\n",
              "    [theme=dark] .colab-df-convert:hover {\n",
              "      background-color: #434B5C;\n",
              "      box-shadow: 0px 1px 3px 1px rgba(0, 0, 0, 0.15);\n",
              "      filter: drop-shadow(0px 1px 2px rgba(0, 0, 0, 0.3));\n",
              "      fill: #FFFFFF;\n",
              "    }\n",
              "  </style>\n",
              "\n",
              "      <script>\n",
              "        const buttonEl =\n",
              "          document.querySelector('#df-56eb6186-c167-4843-ba83-6ced5dfa1335 button.colab-df-convert');\n",
              "        buttonEl.style.display =\n",
              "          google.colab.kernel.accessAllowed ? 'block' : 'none';\n",
              "\n",
              "        async function convertToInteractive(key) {\n",
              "          const element = document.querySelector('#df-56eb6186-c167-4843-ba83-6ced5dfa1335');\n",
              "          const dataTable =\n",
              "            await google.colab.kernel.invokeFunction('convertToInteractive',\n",
              "                                                     [key], {});\n",
              "          if (!dataTable) return;\n",
              "\n",
              "          const docLinkHtml = 'Like what you see? Visit the ' +\n",
              "            '<a target=\"_blank\" href=https://colab.research.google.com/notebooks/data_table.ipynb>data table notebook</a>'\n",
              "            + ' to learn more about interactive tables.';\n",
              "          element.innerHTML = '';\n",
              "          dataTable['output_type'] = 'display_data';\n",
              "          await google.colab.output.renderOutput(dataTable, element);\n",
              "          const docLink = document.createElement('div');\n",
              "          docLink.innerHTML = docLinkHtml;\n",
              "          element.appendChild(docLink);\n",
              "        }\n",
              "      </script>\n",
              "    </div>\n",
              "  </div>\n",
              "  "
            ],
            "text/plain": [
              "          vendor_id  passenger_count  ...  dropoff_latitude  trip_duration\n",
              "count  1.458644e+06     1.458644e+06  ...      1.458644e+06   1.458644e+06\n",
              "mean   1.534950e+00     1.664530e+00  ...      4.075180e+01   9.594923e+02\n",
              "std    4.987772e-01     1.314242e+00  ...      3.589056e-02   5.237432e+03\n",
              "min    1.000000e+00     0.000000e+00  ...      3.218114e+01   1.000000e+00\n",
              "25%    1.000000e+00     1.000000e+00  ...      4.073588e+01   3.970000e+02\n",
              "50%    2.000000e+00     1.000000e+00  ...      4.075452e+01   6.620000e+02\n",
              "75%    2.000000e+00     2.000000e+00  ...      4.076981e+01   1.075000e+03\n",
              "max    2.000000e+00     9.000000e+00  ...      4.392103e+01   3.526282e+06\n",
              "\n",
              "[8 rows x 7 columns]"
            ]
          },
          "metadata": {},
          "execution_count": 14
        }
      ],
      "source": [
        "# summery of dataframe\n",
        "df.describe()"
      ]
    },
    {
      "cell_type": "markdown",
      "metadata": {
        "id": "_uh_yp4xGnZU"
      },
      "source": [
        "* Some insights from the above summary:\n",
        "\n",
        "* Vendor id has a minimum value of 1 and a maximum value of 2 which makes sense as we saw there are two vendor ids 1 and 2.\n",
        "\n",
        "* Passenger count has a minimum of 0 which means either it is an error entered or the drivers deliberately entered 0 to complete a target number of rides.\n",
        "\n",
        "* The minimum trip duration is also quite low. We will come back to this later during Univariate Analysis."
      ]
    },
    {
      "cell_type": "code",
      "execution_count": 15,
      "metadata": {
        "colab": {
          "base_uri": "https://localhost:8080/"
        },
        "id": "QiBwgiWTFr2t",
        "outputId": "a738a09f-e40e-43d5-8069-b372d54c4d11"
      },
      "outputs": [
        {
          "output_type": "execute_result",
          "data": {
            "text/plain": [
              "id                     object\n",
              "vendor_id               int64\n",
              "pickup_datetime        object\n",
              "dropoff_datetime       object\n",
              "passenger_count         int64\n",
              "pickup_longitude      float64\n",
              "pickup_latitude       float64\n",
              "dropoff_longitude     float64\n",
              "dropoff_latitude      float64\n",
              "store_and_fwd_flag     object\n",
              "trip_duration           int64\n",
              "dtype: object"
            ]
          },
          "metadata": {},
          "execution_count": 15
        }
      ],
      "source": [
        "#data type of columns\n",
        "df.dtypes"
      ]
    },
    {
      "cell_type": "markdown",
      "metadata": {
        "id": "oYIjsm-aGEcF"
      },
      "source": [
        "* We have id, pickup_datetime, dropoff_datetime, and store_and_fwd_flag of the vendor_id, passenger_count, and trip_duration are of type int.\n",
        "\n",
        "* pickup_longitude, pickup_latitude, dropoff_longitude, and dropoff_latitude are of type float."
      ]
    },
    {
      "cell_type": "code",
      "execution_count": 16,
      "metadata": {
        "colab": {
          "base_uri": "https://localhost:8080/"
        },
        "id": "tSitiMQyF-oL",
        "outputId": "06ae1a64-63cb-4b63-84c2-0a577b8af78c"
      },
      "outputs": [
        {
          "output_type": "execute_result",
          "data": {
            "text/plain": [
              "id                    1458644\n",
              "vendor_id                   2\n",
              "pickup_datetime       1380222\n",
              "dropoff_datetime      1380377\n",
              "passenger_count            10\n",
              "pickup_longitude        23047\n",
              "pickup_latitude         45245\n",
              "dropoff_longitude       33821\n",
              "dropoff_latitude        62519\n",
              "store_and_fwd_flag          2\n",
              "trip_duration            7417\n",
              "dtype: int64"
            ]
          },
          "metadata": {},
          "execution_count": 16
        }
      ],
      "source": [
        "#Check count of unique id's in the dataset\n",
        "df.nunique()"
      ]
    },
    {
      "cell_type": "markdown",
      "metadata": {
        "id": "o-BV6U53GYbc"
      },
      "source": [
        "* There are 1458644 unique id's in Training dataset, which is equal to the number of records\n",
        "\n",
        "* There are 2 unique vendor ids.\n",
        "\n",
        "* There are 10 unique passenger counts.\n",
        "\n",
        "* There are 2 unique values for store_and_fwd_flag, that we also saw in the description of the variables, which are Y and N."
      ]
    },
    {
      "cell_type": "markdown",
      "metadata": {
        "id": "_0jhRNqHHB-J"
      },
      "source": [
        "# **Reformatting features**\n",
        "There are a variety of features within the dataset and it is important to convert them into the right format such that we can analyse them easily. This would include converting datetime features and string features.\n",
        "\n",
        "Also, one important thing is never to take assumptions without backing it with data. Here, as you can see the trip duration can also be calculated pick up and drop off datetime. We will check whether the given duration is consistent with the calculated trip duration"
      ]
    },
    {
      "cell_type": "code",
      "execution_count": 17,
      "metadata": {
        "colab": {
          "base_uri": "https://localhost:8080/"
        },
        "id": "qBOCYmQcGW-S",
        "outputId": "fee4bf7a-6dad-4ab3-80d6-cb77b370d54d"
      },
      "outputs": [
        {
          "output_type": "execute_result",
          "data": {
            "text/plain": [
              "(0, 12)"
            ]
          },
          "metadata": {},
          "execution_count": 17
        }
      ],
      "source": [
        "#converting string to datetime features\n",
        "df['pickup_datetime']=pd.to_datetime(df.pickup_datetime)\n",
        "df['dropoff_datetime']=pd.to_datetime(df.dropoff_datetime)\n",
        "\n",
        "#converting yes/no flag to 1 and 0\n",
        "df['store_and_fwd_flag']=1*(df.store_and_fwd_flag.values=='Y')\n",
        "\n",
        "df['check_trip_duration'] = (df['dropoff_datetime'] - df['pickup_datetime']).map(lambda x: x.total_seconds())\n",
        "\n",
        "duration_difference = df[np.abs(df['check_trip_duration'].values  - df['trip_duration'].values) > 1]\n",
        "duration_difference.shape"
      ]
    },
    {
      "cell_type": "markdown",
      "metadata": {
        "id": "OXuDDsvhHxv9"
      },
      "source": [
        "This implies that there is no inconsistency in data wrt the drop location and trip duration"
      ]
    },
    {
      "cell_type": "code",
      "execution_count": 18,
      "metadata": {
        "id": "GTNC3W91Hj5O"
      },
      "outputs": [],
      "source": [
        "df['pickup_day']=df['pickup_datetime'].dt.day_name()\n",
        "df['dropoff_day']=df['dropoff_datetime'].dt.day_name()\n",
        "df['pickup_day_no']=df['pickup_datetime'].dt.weekday\n",
        "df['dropoff_day_no']=df['dropoff_datetime'].dt.weekday\n",
        "df['pickup_hour']=df['pickup_datetime'].dt.hour\n",
        "df['dropoff_hour']=df['dropoff_datetime'].dt.hour\n",
        "df['pickup_month']=df['pickup_datetime'].dt.month\n",
        "df['dropoff_month']=df['dropoff_datetime'].dt.month\n",
        "# Log transform the Y values\n",
        "df_y = np.log1p(df['trip_duration'])"
      ]
    },
    {
      "cell_type": "markdown",
      "metadata": {
        "id": "Ow3V2km6Jh0T"
      },
      "source": [
        "* We have created the following features:\n",
        "\n",
        "* pickup_day and dropoff_day which will contain the name of the day on which the ride was taken.\n",
        "\n",
        "* pickup_day_no and dropoff_day_no which will contain the day number instead of characters with Monday=0 and Sunday=6.\n",
        "\n",
        "* pickup_hour and dropoff_hour with an hour of the day in the 24-hour format.\n",
        "\n",
        "* pickup_month and dropoff_month with month number with January=1 and December=12."
      ]
    },
    {
      "cell_type": "markdown",
      "metadata": {
        "id": "hRozllCFoO7A"
      },
      "source": [
        "**Distance Features**\n",
        "\n",
        "As discussed earlier, distance features must be important and must be included here\n",
        "\n",
        "**Eucledian Distance**\n",
        "\n",
        "Let's Calculate the Eucledian distance between pickup and drop off location to get some idea on how far the pickup and dropoff points are since this would definitely impact the trip duration even though we know that cars can't fly"
      ]
    },
    {
      "cell_type": "code",
      "execution_count": 19,
      "metadata": {
        "id": "gz_BLwelLPIN"
      },
      "outputs": [],
      "source": [
        "\n",
        "#displacement\n",
        "y_dist= df['pickup_longitude'] - df['dropoff_longitude']\n",
        "x_dist = df['pickup_latitude'] - df['dropoff_latitude']\n",
        "\n",
        "#square distance\n",
        "df['dist_sq'] = (y_dist ** 2) + (x_dist ** 2)\n",
        "\n",
        "#distance\n",
        "df['dist_sqrt'] = df['dist_sq'] ** 0.5"
      ]
    },
    {
      "cell_type": "markdown",
      "metadata": {
        "id": "9Lc44pa5ouH3"
      },
      "source": [
        "**Haversine Distance**\n",
        "\n",
        "Let's calculate the distance (km) between pickup and dropoff points. The haversine formula determines the great-circle distance between two points on a sphere given their longitudes and latitudes. We will also calculate the approximate angle at which the dropoff location lies wrt the pickup location. pd.DataFrame.apply() would be too slow so the haversine function is rewritten to handle arrays.\n",
        "\n",
        "Haversine direction represents the information of angle of the line connecting the dropoff and pickup point over the surface of earth wrt equator."
      ]
    },
    {
      "cell_type": "code",
      "execution_count": 20,
      "metadata": {
        "id": "H_hRX-4Vnyjp"
      },
      "outputs": [],
      "source": [
        "def haversine_array(lat1, lng1, lat2, lng2):\n",
        "    lat1, lng1, lat2, lng2 = map(np.radians, (lat1, lng1, lat2, lng2))\n",
        "    AVG_EARTH_RADIUS = 6371  # in km\n",
        "    lat = lat2 - lat1\n",
        "    lng = lng2 - lng1\n",
        "    d = np.sin(lat * 0.5) ** 2 + np.cos(lat1) * np.cos(lat2) * np.sin(lng * 0.5) ** 2\n",
        "    h = 2 * AVG_EARTH_RADIUS * np.arcsin(np.sqrt(d))\n",
        "    return h\n",
        "\n",
        "def direction_array(lat1, lng1, lat2, lng2):\n",
        "    AVG_EARTH_RADIUS = 6371  # in km\n",
        "    lng_delta_rad = np.radians(lng2 - lng1)\n",
        "    lat1, lng1, lat2, lng2 = map(np.radians, (lat1, lng1, lat2, lng2))\n",
        "    y = np.sin(lng_delta_rad) * np.cos(lat2)\n",
        "    x = np.cos(lat1) * np.sin(lat2) - np.sin(lat1) * np.cos(lat2) * np.cos(lng_delta_rad)\n",
        "    return np.degrees(np.arctan2(y, x))\n",
        "\n",
        "\n",
        "df['haversine_distance'] = haversine_array(df['pickup_latitude'].values, \n",
        "                                                     df['pickup_longitude'].values, \n",
        "                                                     df['dropoff_latitude'].values, \n",
        "                                                     df['dropoff_longitude'].values)\n",
        "\n",
        "\n",
        "df['direction'] = direction_array(df['pickup_latitude'].values, \n",
        "                                          df['pickup_longitude'].values, \n",
        "                                          df['dropoff_latitude'].values, \n",
        "                                          df['dropoff_longitude'].values)"
      ]
    },
    {
      "cell_type": "markdown",
      "metadata": {
        "id": "c6EZJln8peJ5"
      },
      "source": [
        "**Binning**\n",
        "\n",
        "The lattitude and longitude could be a bit noisy and it might be a good idea to bin them and create new features after rounding their values."
      ]
    },
    {
      "cell_type": "code",
      "execution_count": 21,
      "metadata": {
        "id": "Bfq3YaTLphqG"
      },
      "outputs": [],
      "source": [
        "### Binned Coordinates ###\n",
        "df['pickup_latitude_round3'] = np.round(df['pickup_latitude'],3)\n",
        "df['pickup_longitude_round3'] = np.round(df['pickup_longitude'],3)\n",
        "\n",
        "df['dropoff_latitude_round3'] = np.round(df['dropoff_latitude'],3)\n",
        "df['dropoff_longitude_round3'] = np.round(df['dropoff_longitude'],3)"
      ]
    },
    {
      "cell_type": "markdown",
      "metadata": {
        "id": "HG7Y85Khpz7p"
      },
      "source": [
        "# **Univariate Analysis**"
      ]
    },
    {
      "cell_type": "markdown",
      "metadata": {
        "id": "6QmBY74gqM2J"
      },
      "source": [
        "In this section we will take at the trip duration is the target variable. It is crucial to understand it in detail as this is what we ate trying to predict accurately."
      ]
    },
    {
      "cell_type": "code",
      "execution_count": 22,
      "metadata": {
        "colab": {
          "base_uri": "https://localhost:8080/"
        },
        "id": "KS4eb1o2prZH",
        "outputId": "f1830fd3-5ece-43fe-bf01-255988684bd4"
      },
      "outputs": [
        {
          "output_type": "execute_result",
          "data": {
            "text/plain": [
              "count    405.178889\n",
              "mean       0.266526\n",
              "std        1.454842\n",
              "min        0.000278\n",
              "25%        0.110278\n",
              "50%        0.183889\n",
              "75%        0.298611\n",
              "max      979.522778\n",
              "Name: trip_duration, dtype: float64"
            ]
          },
          "metadata": {},
          "execution_count": 22
        }
      ],
      "source": [
        "df['trip_duration'].describe()/3600   # trip_duration in hour"
      ]
    },
    {
      "cell_type": "markdown",
      "metadata": {
        "id": "8eFRg0CLrl-C"
      },
      "source": [
        "Hey! There is a trip with duration of 979 hours. This is a huge outlier and might create problem at the prediction stage. One idea is to log transform the trip duration before prediction to visualize it before."
      ]
    },
    {
      "cell_type": "code",
      "execution_count": 23,
      "metadata": {
        "colab": {
          "base_uri": "https://localhost:8080/",
          "height": 368
        },
        "id": "x8hc2zdyrf9-",
        "outputId": "23f3b895-03b6-4f47-f926-5d1363aaf20b"
      },
      "outputs": [
        {
          "output_type": "display_data",
          "data": {
            "image/png": "[encoded data removed]",
            "text/plain": [
              "<Figure size 360x360 with 1 Axes>"
            ]
          },
          "metadata": {
            "needs_background": "light"
          }
        }
      ],
      "source": [
        "df['log_trip_duration']=np.log(df['trip_duration'].values+1)\n",
        "sns.displot(df['log_trip_duration'], kde=False, bins=500)\n",
        "plt.show()"
      ]
    },
    {
      "cell_type": "code",
      "execution_count": 24,
      "metadata": {
        "colab": {
          "base_uri": "https://localhost:8080/",
          "height": 310
        },
        "id": "cvzc5xNtrpFu",
        "outputId": "18f50b3c-c636-4a91-ef57-3dbc25e5afa0"
      },
      "outputs": [
        {
          "output_type": "execute_result",
          "data": {
            "text/plain": [
              "<matplotlib.axes._subplots.AxesSubplot at 0x7f429e7e7550>"
            ]
          },
          "metadata": {},
          "execution_count": 24
        },
        {
          "output_type": "display_data",
          "data": {
            "image/png": "[encoded data removed]",
            "text/plain": [
              "<Figure size 432x288 with 1 Axes>"
            ]
          },
          "metadata": {
            "needs_background": "light"
          }
        }
      ],
      "source": [
        "sns.histplot(df['trip_duration'],kde=False,bins=20)"
      ]
    },
    {
      "cell_type": "markdown",
      "metadata": {
        "id": "sN-lPwsqr7yB"
      },
      "source": [
        "The histogram is really skewed as we can see.\n",
        "Let us also look at the boxplot."
      ]
    },
    {
      "cell_type": "code",
      "execution_count": 25,
      "metadata": {
        "colab": {
          "base_uri": "https://localhost:8080/",
          "height": 298
        },
        "id": "Csen6UWPrvZM",
        "outputId": "f6aedabd-ae59-43a4-89ed-54ffb243d3c7"
      },
      "outputs": [
        {
          "output_type": "execute_result",
          "data": {
            "text/plain": [
              "<matplotlib.axes._subplots.AxesSubplot at 0x7f429f65e610>"
            ]
          },
          "metadata": {},
          "execution_count": 25
        },
        {
          "output_type": "display_data",
          "data": {
            "image/png": "[encoded data removed]",
            "text/plain": [
              "<Figure size 432x288 with 1 Axes>"
            ]
          },
          "metadata": {
            "needs_background": "light"
          }
        }
      ],
      "source": [
        "sns.boxplot(df['trip_duration'])"
      ]
    },
    {
      "cell_type": "code",
      "execution_count": 26,
      "metadata": {
        "colab": {
          "base_uri": "https://localhost:8080/"
        },
        "id": "LZNy0AETsCuG",
        "outputId": "b628ab9a-a73b-428d-fe4f-a14b0bd3ba50"
      },
      "outputs": [
        {
          "output_type": "execute_result",
          "data": {
            "text/plain": [
              "978383     3526282\n",
              "924150     2227612\n",
              "680594     2049578\n",
              "355003     1939736\n",
              "1234291      86392\n",
              "            ...   \n",
              "269418           1\n",
              "467645           1\n",
              "533799           1\n",
              "726971           1\n",
              "311745           1\n",
              "Name: trip_duration, Length: 1458644, dtype: int64"
            ]
          },
          "metadata": {},
          "execution_count": 26
        }
      ],
      "source": [
        "df['trip_duration'].sort_values(ascending=False)"
      ]
    },
    {
      "cell_type": "markdown",
      "metadata": {
        "id": "ARNg8NHbsT1o"
      },
      "source": [
        "We can see that there is an entry which is significantly different from others."
      ]
    },
    {
      "cell_type": "markdown",
      "metadata": {
        "id": "yttnMMGWsWiN"
      },
      "source": [
        "**vendor_id**"
      ]
    },
    {
      "cell_type": "code",
      "execution_count": 27,
      "metadata": {
        "colab": {
          "base_uri": "https://localhost:8080/",
          "height": 298
        },
        "id": "6H5bei5Vskie",
        "outputId": "9391b1a2-5ec6-4929-d335-cd93d887f0b7"
      },
      "outputs": [
        {
          "output_type": "execute_result",
          "data": {
            "text/plain": [
              "<matplotlib.axes._subplots.AxesSubplot at 0x7f429e218ad0>"
            ]
          },
          "metadata": {},
          "execution_count": 27
        },
        {
          "output_type": "display_data",
          "data": {
            "image/png": "[encoded data removed]",
            "text/plain": [
              "<Figure size 432x288 with 1 Axes>"
            ]
          },
          "metadata": {
            "needs_background": "light"
          }
        }
      ],
      "source": [
        "sns.countplot(x='vendor_id',data=df)"
      ]
    },
    {
      "cell_type": "markdown",
      "metadata": {
        "id": "kUCCgfoVstof"
      },
      "source": [
        "We see that there is not much difference between the trips taken by both vendors"
      ]
    },
    {
      "cell_type": "markdown",
      "metadata": {
        "id": "HP7Jvf0UszkV"
      },
      "source": [
        "**passenger_count**"
      ]
    },
    {
      "cell_type": "code",
      "execution_count": 28,
      "metadata": {
        "colab": {
          "base_uri": "https://localhost:8080/"
        },
        "id": "Df2zD8blsxX8",
        "outputId": "381750a6-c78b-4a34-d59a-cdf3eae36dd4"
      },
      "outputs": [
        {
          "output_type": "execute_result",
          "data": {
            "text/plain": [
              "1    1033540\n",
              "2     210318\n",
              "5      78088\n",
              "3      59896\n",
              "6      48333\n",
              "4      28404\n",
              "0         60\n",
              "7          3\n",
              "9          1\n",
              "8          1\n",
              "Name: passenger_count, dtype: int64"
            ]
          },
          "metadata": {},
          "execution_count": 28
        }
      ],
      "source": [
        "df.passenger_count.value_counts()"
      ]
    },
    {
      "cell_type": "markdown",
      "metadata": {
        "id": "Ehc-moKOs_89"
      },
      "source": [
        "There are some trips with even 0 passenger count.\n",
        "\n",
        "There is only 1 trip each for 7,8 and 9 passengers."
      ]
    },
    {
      "cell_type": "code",
      "execution_count": 29,
      "metadata": {
        "colab": {
          "base_uri": "https://localhost:8080/",
          "height": 310
        },
        "id": "2M7m1eSNtKhC",
        "outputId": "3b92606c-2e1d-49b1-fabc-bac54ea8af0c"
      },
      "outputs": [
        {
          "output_type": "execute_result",
          "data": {
            "text/plain": [
              "<matplotlib.axes._subplots.AxesSubplot at 0x7f429e1f83d0>"
            ]
          },
          "metadata": {},
          "execution_count": 29
        },
        {
          "output_type": "display_data",
          "data": {
            "image/png": "[encoded data removed]",
            "text/plain": [
              "<Figure size 432x288 with 1 Axes>"
            ]
          },
          "metadata": {
            "needs_background": "light"
          }
        }
      ],
      "source": [
        "sns.countplot(x='passenger_count',data=df)"
      ]
    },
    {
      "cell_type": "markdown",
      "metadata": {
        "id": "gswnV4d_tRT5"
      },
      "source": [
        "We see the highest amount of trips are with 1 passenger."
      ]
    },
    {
      "cell_type": "markdown",
      "metadata": {
        "id": "RaPDNhA9tU84"
      },
      "source": [
        "**Latitude and Longitude**"
      ]
    },
    {
      "cell_type": "markdown",
      "metadata": {
        "id": "RmCpYlntt5NK"
      },
      "source": [
        "Lets look at the geospatial or location features to check consistency. They should not vary much as we are only considering trips within New York city."
      ]
    },
    {
      "cell_type": "code",
      "execution_count": 30,
      "metadata": {
        "colab": {
          "base_uri": "https://localhost:8080/",
          "height": 724
        },
        "id": "mFtjMV-atSOT",
        "outputId": "9b93e64b-a1c4-426c-e3dd-41aa244ed432"
      },
      "outputs": [
        {
          "output_type": "display_data",
          "data": {
            "image/png": "[encoded data removed]",
            "text/plain": [
              "<Figure size 720x720 with 4 Axes>"
            ]
          },
          "metadata": {}
        }
      ],
      "source": [
        "sns.set(style=\"white\", palette=\"muted\", color_codes=True)\n",
        "f, axes = plt.subplots(2,2,figsize=(10, 10), sharex=False, sharey = False)\n",
        "sns.despine(left=True)\n",
        "sns.distplot(df['pickup_latitude'].values, label = 'pickup_latitude',color=\"b\",bins = 100, ax=axes[0,0])\n",
        "sns.distplot(df['pickup_longitude'].values, label = 'pickup_longitude',color=\"r\",bins =100, ax=axes[1,0])\n",
        "sns.distplot(df['dropoff_latitude'].values, label = 'dropoff_latitude',color=\"b\",bins =100, ax=axes[0,1])\n",
        "sns.distplot(df['dropoff_longitude'].values, label = 'dropoff_longitude',color=\"r\",bins =100, ax=axes[1,1])\n",
        "plt.setp(axes, yticks=[])\n",
        "plt.tight_layout()\n",
        "plt.show()"
      ]
    },
    {
      "cell_type": "markdown",
      "metadata": {
        "id": "0Cr0lAvauKI7"
      },
      "source": [
        "Findings - (Here, red represents pickup and dropoff Longitudes & blue represents pickup & dropoff lattitudes)\n",
        "\n",
        "1. From the plot above it is clear that pick and drop latitude are centered around 40 to 41, and longitude are situated around -74 to -73.\n",
        "2. Some extreme co-ordinates has squeezed the plot such that we see a spike here\n",
        "3. A good idea is to remove these outliers and look at the distribution more closely"
      ]
    },
    {
      "cell_type": "code",
      "execution_count": 31,
      "metadata": {
        "colab": {
          "base_uri": "https://localhost:8080/",
          "height": 724
        },
        "id": "q5bpc4H-uVle",
        "outputId": "24ff59b5-f3d0-4051-8cb9-14664b082b5e"
      },
      "outputs": [
        {
          "output_type": "display_data",
          "data": {
            "image/png": "[encoded data removed]",
            "text/plain": [
              "<Figure size 720x720 with 4 Axes>"
            ]
          },
          "metadata": {}
        }
      ],
      "source": [
        "df= df.loc[(df.pickup_latitude > 40.6) & (df.pickup_latitude < 40.9)]\n",
        "df= df.loc[(df.dropoff_latitude>40.6) & (df.dropoff_latitude < 40.9)]\n",
        "df = df.loc[(df.dropoff_longitude > -74.05) & (df.dropoff_longitude < -73.7)]\n",
        "df= df.loc[(df.pickup_longitude > -74.05) & (df.pickup_longitude < -73.7)]\n",
        "df_data_new = df.copy()\n",
        "sns.set(style=\"white\", palette=\"muted\", color_codes=True)\n",
        "f, axes = plt.subplots(2,2,figsize=(10, 10), sharex=False, sharey = False)#\n",
        "sns.despine(left=True)\n",
        "sns.distplot(df_data_new['pickup_latitude'].values, label = 'pickup_latitude',color=\"b\",bins = 100, ax=axes[0,0])\n",
        "sns.distplot(df_data_new['pickup_longitude'].values, label = 'pickup_longitude',color=\"r\",bins =100, ax=axes[0,1])\n",
        "sns.distplot(df_data_new['dropoff_latitude'].values, label = 'dropoff_latitude',color=\"b\",bins =100, ax=axes[1, 0])\n",
        "sns.distplot(df_data_new['dropoff_longitude'].values, label = 'dropoff_longitude',color=\"r\",bins =100, ax=axes[1, 1])\n",
        "plt.setp(axes, yticks=[])\n",
        "plt.tight_layout()\n",
        "\n",
        "plt.show()"
      ]
    },
    {
      "cell_type": "markdown",
      "metadata": {
        "id": "qQxUjpX_uVMl"
      },
      "source": [
        "* We have a much better view of the distribution of coordinates instead of spikes. And we see that most trips are concentrated between these lat long only with a few significant clusters.\n",
        "* These clusters are represented by the numerous peaks in the lattitude and longitude histograms"
      ]
    },
    {
      "cell_type": "markdown",
      "metadata": {
        "id": "nMGarDHru9ir"
      },
      "source": [
        "**store_and_fwd_flag**"
      ]
    },
    {
      "cell_type": "code",
      "execution_count": 32,
      "metadata": {
        "colab": {
          "base_uri": "https://localhost:8080/",
          "height": 405
        },
        "id": "r8xCgG_-vKcn",
        "outputId": "c6ab559f-58da-4965-d519-e995e63874b5"
      },
      "outputs": [
        {
          "output_type": "execute_result",
          "data": {
            "text/plain": [
              "0    1444400\n",
              "1       7985\n",
              "Name: store_and_fwd_flag, dtype: int64"
            ]
          },
          "metadata": {},
          "execution_count": 32
        },
        {
          "output_type": "display_data",
          "data": {
            "image/png": "[encoded data removed]",
            "text/plain": [
              "<Figure size 720x360 with 1 Axes>"
            ]
          },
          "metadata": {}
        }
      ],
      "source": [
        "# store and fwd flag count\n",
        "plt.figure(figsize=(10,5))\n",
        "sns.countplot(df['store_and_fwd_flag'])\n",
        "plt.xlabel('store_and_fwd_flag')\n",
        "plt.ylabel('Frequency')\n",
        "\n",
        "df['store_and_fwd_flag'].value_counts()"
      ]
    },
    {
      "cell_type": "markdown",
      "metadata": {
        "id": "vV-FLZD5vl22"
      },
      "source": [
        "The store_and_fwd_flag values, indicating whether the trip data was sent immediately to the vendor('0') or held in the memory of the taxi because there was no connection to the server('1'), show that there was almost no storing taking place."
      ]
    },
    {
      "cell_type": "markdown",
      "metadata": {
        "id": "N4lR0lpEv-5D"
      },
      "source": [
        "Now, we will delve into the datetime features to understand the trend of number of hourly/monthly/daily taxi trips"
      ]
    },
    {
      "cell_type": "code",
      "execution_count": 33,
      "metadata": {
        "colab": {
          "base_uri": "https://localhost:8080/"
        },
        "id": "N-EjQtHmwFaO",
        "outputId": "d8b14bc2-a178-45f9-a25f-6361533819a9"
      },
      "outputs": [
        {
          "output_type": "execute_result",
          "data": {
            "text/plain": [
              "(Timestamp('2016-01-01 00:00:17'), Timestamp('2016-06-30 23:59:39'))"
            ]
          },
          "metadata": {},
          "execution_count": 33
        }
      ],
      "source": [
        "df['pickup_datetime'].min(), df['pickup_datetime'].max()"
      ]
    },
    {
      "cell_type": "markdown",
      "metadata": {
        "id": "2IqmPM9awL7O"
      },
      "source": [
        "Clearly, These trips are for first 6 months of 2016. To look at trends, we first need to extract week days and hour of day from the pickup date."
      ]
    },
    {
      "cell_type": "code",
      "execution_count": 34,
      "metadata": {
        "id": "_XTvYQ0MwPGF"
      },
      "outputs": [],
      "source": [
        "# creating a new column(day_of_week) from the pickup_datetime column\n",
        "df['day_of_week']=df['pickup_datetime'].dt.weekday\n",
        "# creating a new column(hour_of_week) from the pickup_datetime column\n",
        "df['hour_of_day']=df['pickup_datetime'].dt.hour"
      ]
    },
    {
      "cell_type": "code",
      "execution_count": 35,
      "metadata": {
        "colab": {
          "base_uri": "https://localhost:8080/",
          "height": 357
        },
        "id": "syVGoa0QwRf9",
        "outputId": "bd029531-e5fb-4da8-b319-e5af91c4f061"
      },
      "outputs": [
        {
          "output_type": "execute_result",
          "data": {
            "text/plain": [
              "Text(0, 0.5, 'frequency')"
            ]
          },
          "metadata": {},
          "execution_count": 35
        },
        {
          "output_type": "display_data",
          "data": {
            "image/png": "[encoded data removed]",
            "text/plain": [
              "<Figure size 720x360 with 1 Axes>"
            ]
          },
          "metadata": {}
        }
      ],
      "source": [
        "plt.figure(figsize=(10,5))\n",
        "sns.countplot(df['day_of_week'])\n",
        "plt.xlabel('Week Day')\n",
        "plt.ylabel('frequency')"
      ]
    },
    {
      "cell_type": "markdown",
      "metadata": {
        "id": "Dp3wT1FdweGx"
      },
      "source": [
        "Number of pickups for weekends is much lower than weeks days with a peak on Thurusday(4). Note that here weekday is a decimal number, where 0 is Sunday and 6 is Saturday"
      ]
    },
    {
      "cell_type": "code",
      "execution_count": 36,
      "metadata": {
        "colab": {
          "base_uri": "https://localhost:8080/",
          "height": 357
        },
        "id": "N_60k3BFwhKt",
        "outputId": "2e6eafc3-c8f9-4f02-c318-ef887b6d4a1e"
      },
      "outputs": [
        {
          "output_type": "execute_result",
          "data": {
            "text/plain": [
              "Text(0, 0.5, 'frequency')"
            ]
          },
          "metadata": {},
          "execution_count": 36
        },
        {
          "output_type": "display_data",
          "data": {
            "image/png": "[encoded data removed]",
            "text/plain": [
              "<Figure size 720x360 with 1 Axes>"
            ]
          },
          "metadata": {}
        }
      ],
      "source": [
        "plt.figure(figsize=(10,5))\n",
        "sns.countplot(df['hour_of_day'])\n",
        "plt.xlabel('hour of Day')\n",
        "plt.ylabel('frequency')"
      ]
    },
    {
      "cell_type": "markdown",
      "metadata": {
        "id": "XL5uuXEHwme4"
      },
      "source": [
        "Number of pickups as expected is highest in late evening. However, it is much lower during the morning peak hours."
      ]
    },
    {
      "cell_type": "markdown",
      "metadata": {
        "id": "MklK1xLUvnkH"
      },
      "source": [
        "# **Bivariate Analysis**"
      ]
    },
    {
      "cell_type": "markdown",
      "metadata": {
        "id": "IULiXzPcxFt9"
      },
      "source": [
        "Now that we have gone through all the basic features one by one. Let us start looking at their relation with the target. This will help us in selecting and extracting features at the modelling stage."
      ]
    },
    {
      "cell_type": "markdown",
      "metadata": {
        "id": "P7onf2f0xLDP"
      },
      "source": [
        "**Trip Duration vs Weekday**\n",
        "\n",
        "For different week days, the trip durations can vary as different week days might have different traffic densities especially the weekends might have a much different patterns as compared to working days. Weekday is taken as a decimal number, where 0 - Sunday and 6 is Saturday."
      ]
    },
    {
      "cell_type": "code",
      "execution_count": 37,
      "metadata": {
        "colab": {
          "base_uri": "https://localhost:8080/",
          "height": 0
        },
        "id": "F5fJXQZDxTXE",
        "outputId": "22307109-24e3-42ee-960c-015c94581adb"
      },
      "outputs": [
        {
          "output_type": "execute_result",
          "data": {
            "text/plain": [
              "Text(0.5, 0, 'Week_day')"
            ]
          },
          "metadata": {},
          "execution_count": 37
        },
        {
          "output_type": "display_data",
          "data": {
            "image/png": "[encoded data removed]",
            "text/plain": [
              "<Figure size 432x288 with 1 Axes>"
            ]
          },
          "metadata": {}
        }
      ],
      "source": [
        "summary_wdays_avg_duration = pd.DataFrame(df.groupby(['day_of_week'])['trip_duration'].median())\n",
        "X=[0,1,2,3,4,5,6]\n",
        "Y=summary_wdays_avg_duration['trip_duration']\n",
        "sns.lineplot(X,Y)\n",
        "plt.xlabel(\"Week_day\")"
      ]
    },
    {
      "cell_type": "markdown",
      "metadata": {
        "id": "17fGSQm3xheK"
      },
      "source": [
        "**vendor_id vs Trip Duration**\n",
        "\n",
        "Let's check how the trip duration varies for different vendors."
      ]
    },
    {
      "cell_type": "code",
      "execution_count": 38,
      "metadata": {
        "colab": {
          "base_uri": "https://localhost:8080/",
          "height": 0
        },
        "id": "al6h99zlsbZd",
        "outputId": "5d05dd54-5e1c-44dc-f604-dac22a0eeb7f"
      },
      "outputs": [
        {
          "output_type": "display_data",
          "data": {
            "image/png": "[encoded data removed]",
            "text/plain": [
              "<Figure size 720x432 with 1 Axes>"
            ]
          },
          "metadata": {}
        }
      ],
      "source": [
        "plt.figure(figsize=(10, 6))\n",
        "sns.boxplot(x=\"vendor_id\", y=\"trip_duration\", data=df)\n",
        "plt.show()"
      ]
    },
    {
      "cell_type": "markdown",
      "metadata": {
        "id": "vGRIRkjwxvaL"
      },
      "source": [
        "Woah! This did not came out as expected. The only thing I can see from this boxplot is that for vendor 2, there are a number of outliers exceeding 24 hours while vendor 1 does not have such long trips.\n",
        "\n",
        "There could be 2 solutions to this:\n",
        "\n",
        "Remove the huge outliers and plot again\n",
        "Look at median trip duration for both vendors on hourly basis Let's try the first technique now and check trips below 50000 seconds only"
      ]
    },
    {
      "cell_type": "code",
      "execution_count": 39,
      "metadata": {
        "colab": {
          "base_uri": "https://localhost:8080/",
          "height": 0
        },
        "id": "HH0gEyryxrLW",
        "outputId": "7e92c005-e886-4890-ac94-fce37f8d4b23"
      },
      "outputs": [
        {
          "output_type": "display_data",
          "data": {
            "image/png": "[encoded data removed]",
            "text/plain": [
              "<Figure size 1584x432 with 1 Axes>"
            ]
          },
          "metadata": {}
        }
      ],
      "source": [
        "plt.figure(figsize=(22, 6))\n",
        "df_sub = df[df['trip_duration'] < 50000]\n",
        "sns.boxplot(x=\"vendor_id\", y=\"trip_duration\", data=df_sub)\n",
        "plt.show()"
      ]
    },
    {
      "cell_type": "markdown",
      "metadata": {
        "id": "ziuFX6hGx7O0"
      },
      "source": [
        "As you can see, we were in a false perception earlier that vendor 1 had more outliers. Since the median is just around 600 seconds, we observe that vendor 2 has many more outliers as compared to vendor 1. Next, to confirm this, we will quickly look at the mean wrt day of week for both vendors using tsplot (time series plot) from seaborn."
      ]
    },
    {
      "cell_type": "markdown",
      "metadata": {
        "id": "XfWuzH4QyEFa"
      },
      "source": [
        "**Trip Duration vs Passenger Count**"
      ]
    },
    {
      "cell_type": "code",
      "execution_count": 40,
      "metadata": {
        "colab": {
          "base_uri": "https://localhost:8080/",
          "height": 0
        },
        "id": "4gojoyeJx3Rb",
        "outputId": "b75eede1-6f43-4bb6-beee-e8f9fb3aceaf"
      },
      "outputs": [
        {
          "output_type": "display_data",
          "data": {
            "image/png": "[encoded data removed]",
            "text/plain": [
              "<Figure size 1080x432 with 1 Axes>"
            ]
          },
          "metadata": {}
        }
      ],
      "source": [
        "df.passenger_count.value_counts()\n",
        "plt.figure(figsize=(15, 6))\n",
        "df_sub = df[df['trip_duration'] < 10000]\n",
        "sns.boxplot(x=\"passenger_count\", y=\"trip_duration\", data=df_sub)\n",
        "plt.show()"
      ]
    },
    {
      "cell_type": "markdown",
      "metadata": {
        "id": "1GXAzeQLyVS7"
      },
      "source": [
        "* The boxplot clearly shows that there not much of a difference in distribution for the most frequently occuring passenger count values - 1, 2, 3.\n",
        "* Another key observation is that the number of outliers are reduced for higher passenger counts but that only comes down to the individual frequencies of each passenger count."
      ]
    },
    {
      "cell_type": "markdown",
      "metadata": {
        "id": "-Iunna6lyh7D"
      },
      "source": [
        "**Trip Duration per hour**"
      ]
    },
    {
      "cell_type": "code",
      "execution_count": 41,
      "metadata": {
        "colab": {
          "base_uri": "https://localhost:8080/",
          "height": 0
        },
        "id": "ZYNnSR3SyIlG",
        "outputId": "9eb84e31-087f-4926-ea8c-996e6ce6e38d"
      },
      "outputs": [
        {
          "output_type": "execute_result",
          "data": {
            "text/plain": [
              "<matplotlib.axes._subplots.AxesSubplot at 0x7f429e2f5f10>"
            ]
          },
          "metadata": {},
          "execution_count": 41
        },
        {
          "output_type": "display_data",
          "data": {
            "image/png": "[encoded data removed]",
            "text/plain": [
              "<Figure size 432x288 with 1 Axes>"
            ]
          },
          "metadata": {}
        }
      ],
      "source": [
        "sns.lineplot(x='pickup_hour',y='trip_duration',data=df)"
      ]
    },
    {
      "cell_type": "markdown",
      "metadata": {
        "id": "4-0QGdUdy1TV"
      },
      "source": [
        "We see the trip duration is the maximum around 3 pm which may be because of traffic on the roads. Trip duration is the lowest around 6 am as streets may not be busy."
      ]
    },
    {
      "cell_type": "markdown",
      "metadata": {
        "id": "GY7ivSRizP8k"
      },
      "source": [
        "**Trip Duration per Day of Week**"
      ]
    },
    {
      "cell_type": "code",
      "execution_count": 42,
      "metadata": {
        "colab": {
          "base_uri": "https://localhost:8080/",
          "height": 0
        },
        "id": "MvdKbXYczESJ",
        "outputId": "87affab4-e547-4d67-9c02-ecc403e450fc"
      },
      "outputs": [
        {
          "output_type": "execute_result",
          "data": {
            "text/plain": [
              "<matplotlib.axes._subplots.AxesSubplot at 0x7f429e85e610>"
            ]
          },
          "metadata": {},
          "execution_count": 42
        },
        {
          "output_type": "display_data",
          "data": {
            "image/png": "[encoded data removed]",
            "text/plain": [
              "<Figure size 432x288 with 1 Axes>"
            ]
          },
          "metadata": {}
        }
      ],
      "source": [
        "sns.lineplot(x='pickup_day_no',y='trip_duration',data=df)"
      ]
    },
    {
      "cell_type": "markdown",
      "metadata": {
        "id": "c2Cv0eiLzepw"
      },
      "source": [
        "Trip duration is the longest on Thursdays closely followed by Fridays."
      ]
    },
    {
      "cell_type": "markdown",
      "metadata": {
        "id": "-k1UDZRPzkJ1"
      },
      "source": [
        "**Trip Duration per month**"
      ]
    },
    {
      "cell_type": "code",
      "execution_count": null,
      "metadata": {
        "id": "tyNk10yMzVe0"
      },
      "outputs": [],
      "source": [
        "sns.lineplot(x='pickup_month',y='trip_duration',data=df)"
      ]
    },
    {
      "cell_type": "code",
      "execution_count": null,
      "metadata": {
        "id": "ap7kA6HYz9km"
      },
      "outputs": [],
      "source": [
        ""
      ]
    },
    {
      "cell_type": "markdown",
      "metadata": {
        "id": "3d4CFYXpzwVn"
      },
      "source": [
        "From February, we can see trip duration rising every month."
      ]
    },
    {
      "cell_type": "markdown",
      "metadata": {
        "id": "AugecYvzz8DM"
      },
      "source": [
        "**Correlation Heatmap**\n",
        "\n",
        "Let us quickly look at the correlation heatmap to check the correlations amongst all features."
      ]
    },
    {
      "cell_type": "code",
      "execution_count": null,
      "metadata": {
        "id": "DZayp8npzs46"
      },
      "outputs": [],
      "source": [
        "plt.figure(figsize=(22, 6))\n",
        "sf = df.drop(['id', 'pickup_datetime', 'dropoff_datetime',\n",
        "       'passenger_count','check_trip_duration','log_trip_duration'],\n",
        "        axis=1)\n",
        "corr = sf.apply(lambda x: pd.factorize(x)[0]).corr()\n",
        "ax = sns.heatmap(corr, xticklabels=corr.columns, yticklabels=corr.columns, \n",
        "                 linewidths=.2, cmap=\"Reds\")"
      ]
    },
    {
      "cell_type": "markdown",
      "metadata": {
        "id": "Y7zVuMaK0RLE"
      },
      "source": [
        "# **Model building**"
      ]
    },
    {
      "cell_type": "code",
      "execution_count": null,
      "metadata": {
        "id": "An0byEydJwZP"
      },
      "outputs": [],
      "source": [
        "dfm['pickup_datetime'] = pd.to_datetime(dfm.pickup_datetime)\n",
        "dfm['dropoff_datetime'] = pd.to_datetime(dfm.dropoff_datetime)"
      ]
    },
    {
      "cell_type": "code",
      "execution_count": null,
      "metadata": {
        "id": "ms6Px8rKJ1NX"
      },
      "outputs": [],
      "source": [
        "# Log transform the Y values\n",
        "df_y = np.log1p(dfm['trip_duration'])\n",
        "\n",
        "# Add some datetime features\n",
        "dfm.loc[:, 'pickup_weekday'] = dfm['pickup_datetime'].dt.weekday\n",
        "dfm.loc[:, 'pickup_hour_weekofyear'] = dfm['pickup_datetime'].dt.weekofyear\n",
        "dfm.loc[:, 'pickup_hour'] = dfm['pickup_datetime'].dt.hour\n",
        "dfm.loc[:, 'pickup_minute'] = dfm['pickup_datetime'].dt.minute\n",
        "dfm.loc[:, 'pickup_dt'] = (dfm['pickup_datetime'] - dfm['pickup_datetime'].min()).dt.total_seconds()\n",
        "dfm.loc[:, 'pickup_week_hour'] = dfm['pickup_weekday'] * 24 + dfm['pickup_hour']"
      ]
    },
    {
      "cell_type": "code",
      "execution_count": null,
      "metadata": {
        "id": "V1ux08XIJ4nl"
      },
      "outputs": [],
      "source": [
        "#displacement\n",
        "y_dist= dfm['pickup_longitude'] - dfm['dropoff_longitude']\n",
        "x_dist = dfm['pickup_latitude'] - dfm['dropoff_latitude']\n",
        "\n",
        "#square distance\n",
        "dfm['dist_sq'] = (y_dist ** 2) + (x_dist ** 2)\n",
        "\n",
        "#distance\n",
        "dfm['dist_sqrt'] = dfm['dist_sq'] ** 0.5"
      ]
    },
    {
      "cell_type": "code",
      "execution_count": null,
      "metadata": {
        "id": "4WeKO1ufJ9Dl"
      },
      "outputs": [],
      "source": [
        "def haversine_array(lat1, lng1, lat2, lng2):\n",
        "    lat1, lng1, lat2, lng2 = map(np.radians, (lat1, lng1, lat2, lng2))\n",
        "    AVG_EARTH_RADIUS = 6371  # in km\n",
        "    lat = lat2 - lat1\n",
        "    lng = lng2 - lng1\n",
        "    d = np.sin(lat * 0.5) ** 2 + np.cos(lat1) * np.cos(lat2) * np.sin(lng * 0.5) ** 2\n",
        "    h = 2 * AVG_EARTH_RADIUS * np.arcsin(np.sqrt(d))\n",
        "    return h\n",
        "\n",
        "def direction_array(lat1, lng1, lat2, lng2):\n",
        "    AVG_EARTH_RADIUS = 6371  # in km\n",
        "    lng_delta_rad = np.radians(lng2 - lng1)\n",
        "    lat1, lng1, lat2, lng2 = map(np.radians, (lat1, lng1, lat2, lng2))\n",
        "    y = np.sin(lng_delta_rad) * np.cos(lat2)\n",
        "    x = np.cos(lat1) * np.sin(lat2) - np.sin(lat1) * np.cos(lat2) * np.cos(lng_delta_rad)\n",
        "    return np.degrees(np.arctan2(y, x))\n",
        "\n",
        "\n",
        "dfm['haversine_distance'] = haversine_array(dfm['pickup_latitude'].values, \n",
        "                                                     dfm['pickup_longitude'].values, \n",
        "                                                     dfm['dropoff_latitude'].values, \n",
        "                                                     dfm['dropoff_longitude'].values)\n",
        "\n",
        "\n",
        "dfm['direction'] = direction_array(dfm['pickup_latitude'].values, \n",
        "                                          dfm['pickup_longitude'].values, \n",
        "                                          dfm['dropoff_latitude'].values, \n",
        "                                          dfm['dropoff_longitude'].values)"
      ]
    },
    {
      "cell_type": "code",
      "execution_count": null,
      "metadata": {
        "id": "U0fb7mgmJ-1S"
      },
      "outputs": [],
      "source": [
        "## Binned Coordinates ###\n",
        "dfm['pickup_latitude_round3'] = np.round(dfm['pickup_latitude'],3)\n",
        "dfm['pickup_longitude_round3'] = np.round(dfm['pickup_longitude'],3)\n",
        "\n",
        "dfm['dropoff_latitude_round3'] = np.round(dfm['dropoff_latitude'],3)\n",
        "dfm['dropoff_longitude_round3'] = np.round(dfm['dropoff_longitude'],3)"
      ]
    },
    {
      "cell_type": "markdown",
      "metadata": {
        "id": "fmiqGML40wr0"
      },
      "source": [
        "**One Hot Encoding**\n",
        "\n",
        "Here, Vendor ID can be converted to one hot encoding or frequency encoding since in the raw data it has values 1 and 2 without any inherent order."
      ]
    },
    {
      "cell_type": "code",
      "execution_count": null,
      "metadata": {
        "id": "IDtnWPhH0Hoy"
      },
      "outputs": [],
      "source": [
        "dfm.vendor_id.value_counts()"
      ]
    },
    {
      "cell_type": "markdown",
      "metadata": {
        "id": "OTyOe8px06bi"
      },
      "source": [
        "Now, there is not much difference in the frequencies of both and that might not make for an important feature. so we will just convert it to 0 and 1 by subtracting 1 from it"
      ]
    },
    {
      "cell_type": "code",
      "execution_count": null,
      "metadata": {
        "id": "HDgPtOHE01L8"
      },
      "outputs": [],
      "source": [
        "dfm['vendor_id'] = dfm['vendor_id'] - 1\n"
      ]
    },
    {
      "cell_type": "code",
      "execution_count": null,
      "metadata": {
        "id": "BKwoTWcn0-ah"
      },
      "outputs": [],
      "source": [
        "np.sum(pd.isnull(dfm))"
      ]
    },
    {
      "cell_type": "markdown",
      "metadata": {
        "id": "jV94fvjd1MdZ"
      },
      "source": [
        "Before we go on to build a model, we must drop the variables that should not be fed as features to the algorithms. We will drop\n",
        "\n",
        "* id - Uniquely represents a sample in the train set\n",
        "* pickup_datetime - Since we have extracted the datetime features, there is no need to keep the datetime column\n",
        "* dropoff_datetime - If this is used to create features, it would be a leakage and we will get perfect model performance. Why? The time gap between dropoff_datetime and pickup_datetime is essentially what we are trying to predict\n",
        "* trip_duration - This is the target variable so needs to be dropped\n",
        "store_and_fwd_flag - This variable is not available before the start of the trip and should not be used for modelling."
      ]
    },
    {
      "cell_type": "code",
      "execution_count": null,
      "metadata": {
        "id": "qaB2ceHRKMiW"
      },
      "outputs": [],
      "source": [
        "dfm = dfm.drop(['id', 'pickup_datetime', 'dropoff_datetime', 'trip_duration','store_and_fwd_flag'], axis=1)"
      ]
    },
    {
      "cell_type": "markdown",
      "metadata": {
        "id": "N_V1VhAJ1wX3"
      },
      "source": [
        "\n",
        "**Test Train Split**\n",
        "\n",
        "We have all numbers in our dataset now. Time to delve into model building. But before that, we need to finalise a validation strategy to create the train and test sets. Here, we will do a random split and keep one third of the data in test set and remaining two third of data in the train set"
      ]
    },
    {
      "cell_type": "code",
      "execution_count": null,
      "metadata": {
        "id": "Qumlukzf1qKH"
      },
      "outputs": [],
      "source": [
        "#Splitting the data into Train and Validation set\n",
        "xtrain, xtest, ytrain, ytest = train_test_split(dfm,df_y,test_size=1/3, random_state=0)"
      ]
    },
    {
      "cell_type": "markdown",
      "metadata": {
        "id": "DMmeo2hi1_R7"
      },
      "source": [
        "**Mean Prediction**\n",
        "\n",
        "Before we go on to try any machine learning model, let us look at the performance of a basic model that just says the mean of trip duration in the train set is the prediction for all the trips in the test set."
      ]
    },
    {
      "cell_type": "code",
      "execution_count": null,
      "metadata": {
        "id": "LHNg05mp13bP"
      },
      "outputs": [],
      "source": [
        "mean_pred = np.repeat(ytrain.mean(),len(ytest))\n",
        "\n",
        "sqrt(mean_squared_error(ytest, mean_pred))"
      ]
    },
    {
      "cell_type": "markdown",
      "metadata": {
        "id": "kEOPOKY6PNxf"
      },
      "source": [
        "# **Cross validation**\n",
        "Cross Validation is one of the most important concepts in any type of data modelling. It simply says, try to leave a sample on which you do not train the model and test the model on this sample before finalizing the model.\n",
        "\n",
        "we divide the entire population into k equal samples. Now we train models on k-1 samples and validate on 1 sample. Then, at the second iteration we train the model with a different sample held as validation.\n",
        "\n",
        "In k iterations, we have basically built model on each sample and held each of them as validation. This is a way to reduce the selection bias and reduce the variance in prediction power."
      ]
    },
    {
      "cell_type": "code",
      "execution_count": null,
      "metadata": {
        "id": "rYPFo6RuaIyJ"
      },
      "outputs": [],
      "source": [
        "def cv_score(ml_model, rstate = 11,cols = dfm.columns):\n",
        "    i = 1\n",
        "    cv_scores = []\n",
        "    df1 = dfm.copy()\n",
        "    df1 = dfm[cols]\n",
        "    \n",
        "    kf = KFold(n_splits=5,random_state=rstate,shuffle=True)\n",
        "    for train_index,test_index in kf.split(df1,df_y):\n",
        "        print('\\n{} of kfold {}'.format(i,kf.n_splits))\n",
        "        xtr,xvl = df1.loc[train_index],df1.loc[test_index]\n",
        "        ytr,yvl = df_y[train_index],df_y[test_index]\n",
        "\n",
        "        model = ml_model\n",
        "        model.fit(xtr, ytr)\n",
        "        train_val = model.predict(xtr)\n",
        "        pred_val = model.predict(xvl)\n",
        "        rmse_score_train = sqrt(mean_squared_error(ytr, train_val))\n",
        "        rmse_score = sqrt(mean_squared_error(yvl, pred_val))\n",
        "        sufix = \"\"\n",
        "        msg = \"\"\n",
        "        #msg += \"Train RMSE: {:.5f} \".format(rmse_score_train)\n",
        "        msg += \"Valid RMSE: {:.5f}\".format(rmse_score)\n",
        "        print(\"{}\".format(msg))\n",
        "        # Save scores\n",
        "        cv_scores.append(rmse_score)\n",
        "        i+=1\n",
        "    return cv_scores"
      ]
    },
    {
      "cell_type": "markdown",
      "metadata": {
        "id": "mLFAIagp2IjT"
      },
      "source": [
        "# **Linear Regression**"
      ]
    },
    {
      "cell_type": "code",
      "execution_count": null,
      "metadata": {
        "id": "Fv3xcicRahXz"
      },
      "outputs": [],
      "source": [
        "linreg_scores = cv_score(LinearRegression())"
      ]
    },
    {
      "cell_type": "code",
      "execution_count": null,
      "metadata": {
        "id": "cJKd-D6eaj2T"
      },
      "outputs": [],
      "source": [
        "dtree_scores = cv_score(DecisionTreeRegressor(min_samples_leaf=25, min_samples_split=25))"
      ]
    },
    {
      "cell_type": "code",
      "execution_count": null,
      "metadata": {
        "id": "rPMXg6ZCaoaP"
      },
      "outputs": [],
      "source": [
        "results_df = pd.DataFrame({'linear_regression':linreg_scores, 'dtree': dtree_scores})"
      ]
    },
    {
      "cell_type": "code",
      "execution_count": null,
      "metadata": {
        "id": "M3uYMVHWarYE"
      },
      "outputs": [],
      "source": [
        "results_df.plot(y=[\"linear_regression\", \"dtree\"], kind=\"bar\", legend=False)\n",
        "plt.legend(bbox_to_anchor=(1.05, 1), loc=2, borderaxespad=0.)\n",
        "plt.show()"
      ]
    },
    {
      "cell_type": "markdown",
      "metadata": {
        "id": "ffx7G-3CPdvZ"
      },
      "source": [
        "Decision Tree is better than Linear regression"
      ]
    },
    {
      "cell_type": "code",
      "execution_count": null,
      "metadata": {
        "id": "faAttF0Xat7H"
      },
      "outputs": [],
      "source": [
        ""
      ]
    },
    {
      "cell_type": "markdown",
      "metadata": {
        "id": "vQTa_MQf4H98"
      },
      "source": [
        "# **Decision tree**"
      ]
    },
    {
      "cell_type": "markdown",
      "metadata": {
        "id": "1xUI5csB5I8i"
      },
      "source": [
        "I will implement a Decision Tree Regressor first for three primary reasons:\n",
        "\n",
        "it is the easiest to interpret\n",
        "\n",
        "does not require feature scaling\n",
        "\n",
        "computationally less expensive than other methods"
      ]
    },
    {
      "cell_type": "code",
      "execution_count": null,
      "metadata": {
        "id": "rdwsLKDi6ieB"
      },
      "outputs": [],
      "source": [
        "from sklearn.tree import DecisionTreeRegressor\n",
        "\n",
        "# Instantiate model object\n",
        "dtree = DecisionTreeRegressor()\n",
        "\n",
        "# Fit to training data\n",
        "dtree.fit(xtrain,ytrain)\n",
        "print(dtree)\n",
        "\n",
        "# Predict\n",
        "y_pred_dtree = dtree.predict(xtest)\n",
        "\n",
        "# Score It\n",
        "from sklearn import metrics\n",
        "print('\\nDecision Tree Regression Performance Metrics')\n",
        "print('R^2=',metrics.explained_variance_score(ytest,y_pred_dtree))\n",
        "print('MAE:',metrics.mean_absolute_error(ytest,y_pred_dtree))\n",
        "print('MSE:',metrics.mean_squared_error(ytest,y_pred_dtree))\n",
        "print('RMSE:',np.sqrt(metrics.mean_squared_error(ytest,y_pred_dtree)))"
      ]
    },
    {
      "cell_type": "markdown",
      "metadata": {
        "id": "duQfpaNA5n_M"
      },
      "source": [
        "**Learning curve**\n",
        "\n",
        "Learning curves constitute a great tool to diagnose bias and variance in any supervised learning algorithm. It shows how error changes as the training set size increases. We'll use the learning_curve() function from the scikit-learn library to generate a learning curve for the regression model. There's no need to put aside a validation set because learning_curve() will take care of that and that's why we will plot the learning curve over whole dataset."
      ]
    },
    {
      "cell_type": "code",
      "execution_count": null,
      "metadata": {
        "id": "FqAwl7x05lYc"
      },
      "outputs": [],
      "source": [
        "import statsmodels.formula.api as sm\n",
        "from sklearn.model_selection import learning_curve\n",
        "from sklearn.model_selection import ShuffleSplit\n",
        "import warnings; warnings.simplefilter('ignore')"
      ]
    },
    {
      "cell_type": "code",
      "execution_count": null,
      "metadata": {
        "colab": {
          "background_save": true
        },
        "id": "w9IwIjQ05y1_"
      },
      "outputs": [],
      "source": [
        "def learning_curves(estimator, title, features, target, train_sizes, cv, n_jobs=-1):\n",
        "    plt.figure(figsize = (14,5))\n",
        "    train_sizes, train_scores, validation_scores = learning_curve(estimator, features, target, train_sizes = train_sizes, cv = cv, scoring = 'neg_mean_squared_error',  n_jobs=n_jobs)\n",
        "    train_scores_mean = -train_scores.mean(axis = 1)\n",
        "    validation_scores_mean = -validation_scores.mean(axis = 1)\n",
        "    \n",
        "    plt.grid()\n",
        "    \n",
        "    plt.plot(train_sizes, train_scores_mean,'o-', color=\"r\", label = 'Training error')\n",
        "    plt.plot(train_sizes, validation_scores_mean,'o-', color=\"g\", label = 'Validation error')\n",
        "\n",
        "    plt.ylabel('MSE', fontsize = 14)\n",
        "    plt.xlabel('Training set size', fontsize = 14)\n",
        "    \n",
        "    title = 'Learning curves for a ' + title + ' model'\n",
        "    plt.title(title, fontsize = 18, loc='left')\n",
        "    \n",
        "    plt.legend(loc=\"best\")\n",
        "    \n",
        "    return plt\n",
        "\n",
        "# score curves, each time with 20% data randomly selected as a validation set.\n",
        "cv = ShuffleSplit(n_splits=10, test_size=0.2, random_state=4)\n",
        "\n",
        "# Plot learning curve for the RF Regressor\n",
        "title = \"Decision Tree Regressor\"\n",
        "\n",
        "# Call learning curve with all dataset i.e. traininig and test combined because CV will take of data split.\n",
        "learning_curves(dtree, title, dfm,df_y, train_sizes=np.linspace(.1, 1.0, 5), cv=cv, n_jobs=-1)"
      ]
    },
    {
      "cell_type": "markdown",
      "metadata": {
        "id": "LNIMYQySmQy3"
      },
      "source": [
        "# **Conclusion**"
      ]
    },
    {
      "cell_type": "markdown",
      "metadata": {
        "id": "8dsJn5-4mVuz"
      },
      "source": [
        "1. Mostly 1 or 2 passengers avail the cab. The instance of large group of people travelling together is rare.\n",
        "2. Most trips were taken on Friday and Monday being the least.\n",
        "we observe that most pickups and drops occur in the evening. While the least drops and pickups occur during morning.\n",
        "3. The highest average time taken to complete a trip are for trips started in midday(between 14 and 17 hours) and the least are the ones taken in the early morning(between 6–7 hours)\n",
        "4. vendor 1 mostly provides short trip duration cabs while vendor 2 provides cab for both short and long trips.\n",
        "5. The flag was stored only for short duration trips and for long duration trips the flag was never stored.\n",
        "6. Desion tree model give more accurate value on data set than linear regression model.\n",
        "[ ]\n"
      ]
    }
  ],
  "metadata": {
    "colab": {
      "collapsed_sections": [
        "tOGC-qoyhJeX",
        "zo0c5TLsCL_u",
        "VPW0ChMZD1gX",
        "N8k66G5oEf4O",
        "p7L1ajJbFFEl",
        "_0jhRNqHHB-J",
        "HG7Y85Khpz7p",
        "Y7zVuMaK0RLE",
        "kEOPOKY6PNxf"
      ],
      "name": " NYC_TEAM- Capstone Project.ipynb",
      "provenance": [],
      "include_colab_link": true
    },
    "kernelspec": {
      "display_name": "Python 3",
      "language": "python",
      "name": "python3"
    },
    "language_info": {
      "codemirror_mode": {
        "name": "ipython",
        "version": 3
      },
      "file_extension": ".py",
      "mimetype": "text/x-python",
      "name": "python",
      "nbconvert_exporter": "python",
      "pygments_lexer": "ipython3",
      "version": "3.6.6"
    }
  },
  "nbformat": 4,
  "nbformat_minor": 0
}